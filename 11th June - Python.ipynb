{
 "cells": [
  {
   "cell_type": "markdown",
   "id": "4006d196",
   "metadata": {},
   "source": [
    "1. What is a lambda function in Python, and how does it differ from a regular function?"
   ]
  },
  {
   "cell_type": "raw",
   "id": "c294dd10",
   "metadata": {},
   "source": [
    "Lambda function are similar to the regular function. But don't follow the tradiational steps of the regualr functions.\n",
    "In lambda function a single line of code is given . It can be used for simple functions not for the complex functions"
   ]
  },
  {
   "cell_type": "markdown",
   "id": "ad50d05f",
   "metadata": {},
   "source": [
    "2. Can a lambda function in Python have multiple arguments? If yes, how can you define and use\n",
    "them?"
   ]
  },
  {
   "cell_type": "raw",
   "id": "aba1ce57",
   "metadata": {},
   "source": [
    "Yes Lambda can have multiple arguments and can we defined like below:\n"
   ]
  },
  {
   "cell_type": "code",
   "execution_count": 1,
   "id": "28d6b817",
   "metadata": {},
   "outputs": [
    {
     "name": "stdout",
     "output_type": "stream",
     "text": [
      "71\n"
     ]
    }
   ],
   "source": [
    "x=lambda x,y,z:x+y+z\n",
    "print(x(1,3,67))"
   ]
  },
  {
   "cell_type": "markdown",
   "id": "11924add",
   "metadata": {},
   "source": [
    "3. How are lambda functions typically used in Python? Provide an example use case."
   ]
  },
  {
   "cell_type": "raw",
   "id": "fb1d8530",
   "metadata": {},
   "source": [
    "Lambda function can be used in python to simply the functions in python."
   ]
  },
  {
   "cell_type": "code",
   "execution_count": 2,
   "id": "4dd09da4",
   "metadata": {},
   "outputs": [
    {
     "name": "stdout",
     "output_type": "stream",
     "text": [
      "Maximum of two number 56\n"
     ]
    }
   ],
   "source": [
    "x=lambda x,y:x if x>y else y\n",
    "print('Maximum of two number',x(54,56))"
   ]
  },
  {
   "cell_type": "markdown",
   "id": "ae38383d",
   "metadata": {},
   "source": [
    "4. What are the advantages and limitations of lambda functions compared to regular functions in\n",
    "Python?"
   ]
  },
  {
   "cell_type": "raw",
   "id": "e6cc011b",
   "metadata": {},
   "source": [
    "Advantages:\n",
    "    It is single function\n",
    "It is used in the single expressions.\n",
    "\n",
    "Limitations:\n",
    "    It can't be used for complex function\n",
    "It is not easily understood\n"
   ]
  },
  {
   "cell_type": "markdown",
   "id": "ce0dcba0",
   "metadata": {},
   "source": [
    "5. Are lambda functions in Python able to access variables defined outside of their own scope?\n",
    "Explain with an example."
   ]
  },
  {
   "cell_type": "raw",
   "id": "9e580f2c",
   "metadata": {},
   "source": [
    "Yes it is access outside the scope"
   ]
  },
  {
   "cell_type": "markdown",
   "id": "182af3db",
   "metadata": {},
   "source": [
    "\n",
    "6. Write a lambda function to calculate the square of a given number."
   ]
  },
  {
   "cell_type": "code",
   "execution_count": 3,
   "id": "c997db91",
   "metadata": {},
   "outputs": [
    {
     "name": "stdout",
     "output_type": "stream",
     "text": [
      "16\n"
     ]
    }
   ],
   "source": [
    "x=lambda a:a**2\n",
    "print(x(4))"
   ]
  },
  {
   "cell_type": "markdown",
   "id": "5420d145",
   "metadata": {},
   "source": [
    "7. Create a lambda function to find the maximum value in a list of integers."
   ]
  },
  {
   "cell_type": "code",
   "execution_count": 4,
   "id": "15fabc4a",
   "metadata": {},
   "outputs": [
    {
     "name": "stdout",
     "output_type": "stream",
     "text": [
      "90\n"
     ]
    }
   ],
   "source": [
    "x= lambda l:max(l)\n",
    "print(x([23,45,1,90]))"
   ]
  },
  {
   "cell_type": "code",
   "execution_count": null,
   "id": "1aef4fff",
   "metadata": {},
   "outputs": [],
   "source": [
    "8. Implement a lambda function to filter out all the even numbers from a list of integers."
   ]
  },
  {
   "cell_type": "code",
   "execution_count": 45,
   "id": "2f48c44a",
   "metadata": {},
   "outputs": [
    {
     "name": "stdout",
     "output_type": "stream",
     "text": [
      "[2, 4, 6, 8, 10]\n"
     ]
    }
   ],
   "source": [
    "num = [1, 2, 3, 4, 5, 6, 7, 8, 9, 10]\n",
    "even_num = list(filter(lambda x: x % 2 == 0, num))\n",
    "print(even_num)\n"
   ]
  },
  {
   "cell_type": "markdown",
   "id": "18295bed",
   "metadata": {},
   "source": [
    "9. Write a lambda function to sort a list of strings in ascending order based on the length of each\n",
    "string."
   ]
  },
  {
   "cell_type": "code",
   "execution_count": 39,
   "id": "6406a0ef",
   "metadata": {},
   "outputs": [
    {
     "name": "stdout",
     "output_type": "stream",
     "text": [
      "['varu,length']\n"
     ]
    }
   ],
   "source": [
    "y=lambda x:sorted(x,key=len)\n",
    "l=['varu,length']\n",
    "print(y(l))"
   ]
  },
  {
   "cell_type": "markdown",
   "id": "401fd2b9",
   "metadata": {},
   "source": [
    "10. Create a lambda function that takes two lists as input and returns a new list containing the\n",
    "common elements between the two lists."
   ]
  },
  {
   "cell_type": "code",
   "execution_count": 33,
   "id": "8a61a37a",
   "metadata": {},
   "outputs": [
    {
     "name": "stdout",
     "output_type": "stream",
     "text": [
      "{2, 3, 4}\n"
     ]
    }
   ],
   "source": [
    "x=lambda n,y: set(n).intersection(set(y))\n",
    "print(x([1,2,3,4],[2,3,4]))"
   ]
  },
  {
   "cell_type": "markdown",
   "id": "2cb4c65f",
   "metadata": {},
   "source": [
    "\n",
    "11. Write a recursive function to calculate the factorial of a given positive integer."
   ]
  },
  {
   "cell_type": "code",
   "execution_count": 30,
   "id": "38bc6320",
   "metadata": {},
   "outputs": [
    {
     "name": "stdout",
     "output_type": "stream",
     "text": [
      "Enter a number5\n",
      "120\n"
     ]
    }
   ],
   "source": [
    "def fact(number):\n",
    "    if number<=1:\n",
    "        return 1\n",
    "    else:\n",
    "        return number*fact(number-1)\n",
    "n=int(input('Enter a number'))\n",
    "print(fact(n))"
   ]
  },
  {
   "cell_type": "markdown",
   "id": "5899c4c7",
   "metadata": {},
   "source": [
    "\n",
    "12. Implement a recursive function to compute the nth Fibonacci number."
   ]
  },
  {
   "cell_type": "code",
   "execution_count": 29,
   "id": "71f37fc6",
   "metadata": {},
   "outputs": [
    {
     "name": "stdout",
     "output_type": "stream",
     "text": [
      "Enter a number15\n",
      "987\n"
     ]
    }
   ],
   "source": [
    "def fib(n):\n",
    "    if n<=1:\n",
    "        return 1\n",
    "    else:\n",
    "        return fib(n-1)+fib(n-2)  \n",
    "n=int(input('Enter a number'))\n",
    "print(fib(n))"
   ]
  },
  {
   "cell_type": "markdown",
   "id": "526fec06",
   "metadata": {},
   "source": [
    "\n",
    "13. Create a recursive function to find the sum of all the elements in a given list."
   ]
  },
  {
   "cell_type": "code",
   "execution_count": 27,
   "id": "55f10b47",
   "metadata": {},
   "outputs": [
    {
     "name": "stdout",
     "output_type": "stream",
     "text": [
      "Enter the number of elements for list:4\n",
      "Enter element:14\n",
      "Enter element:12\n",
      "Enter element:16\n",
      "Enter element:15\n",
      "The list is:\n",
      "[14, 12, 16, 15]\n",
      "Sum of items in list:\n",
      "57\n"
     ]
    }
   ],
   "source": [
    "def sum_arr(arr,size):\n",
    "   if (size == 0):\n",
    "     return 0\n",
    "   else:\n",
    "     return arr[size-1] + sum_arr(arr,size-1)\n",
    "n=int(input(\"Enter the number of elements for list:\"))\n",
    "a=[]\n",
    "for i in range(0,n):\n",
    "    element=int(input(\"Enter element:\"))\n",
    "    a.append(element)\n",
    "print(\"The list is:\")\n",
    "print(a)\n",
    "print(\"Sum of items in list:\")\n",
    "b=sum_arr(a,n)\n",
    "print(b)\n"
   ]
  },
  {
   "cell_type": "markdown",
   "id": "5e5e063f",
   "metadata": {},
   "source": [
    "14. Write a recursive function to determine whether a given string is a palindrome."
   ]
  },
  {
   "cell_type": "code",
   "execution_count": 19,
   "id": "babe09c6",
   "metadata": {},
   "outputs": [
    {
     "name": "stdout",
     "output_type": "stream",
     "text": [
      "enter a sctringmmmummm\n",
      "Yes Palindrome\n"
     ]
    }
   ],
   "source": [
    "def palindrome(n):\n",
    "    if len(n)<1:\n",
    "        return True\n",
    "    elif n[0]==n[-1]:\n",
    "        return palindrome(n[1:-1])\n",
    "    else:\n",
    "        return False\n",
    "\n",
    "a=input('enter a sctring')\n",
    "if palindrome(a)==True:\n",
    "    print('Yes Palindrome')\n",
    "else:\n",
    "    print('Not Palindrome')\n",
    "        "
   ]
  },
  {
   "cell_type": "markdown",
   "id": "df872001",
   "metadata": {},
   "source": [
    "15. Implement a recursive function to find the greatest common divisor (GCD) of two positive integers."
   ]
  },
  {
   "cell_type": "code",
   "execution_count": 13,
   "id": "21b101cd",
   "metadata": {},
   "outputs": [
    {
     "name": "stdout",
     "output_type": "stream",
     "text": [
      "10\n"
     ]
    }
   ],
   "source": [
    "def gcd(a,b):\n",
    "    if b==0 :\n",
    "        return a\n",
    "    else:\n",
    "        return gcd(b,a%b) \n",
    "                                \n",
    "print(gcd(10,20))"
   ]
  },
  {
   "cell_type": "code",
   "execution_count": 14,
   "id": "f3405af5",
   "metadata": {},
   "outputs": [
    {
     "data": {
      "text/plain": [
       "10"
      ]
     },
     "execution_count": 14,
     "metadata": {},
     "output_type": "execute_result"
    }
   ],
   "source": []
  },
  {
   "cell_type": "code",
   "execution_count": 15,
   "id": "c39af4a8",
   "metadata": {},
   "outputs": [
    {
     "data": {
      "text/plain": [
       "0"
      ]
     },
     "execution_count": 15,
     "metadata": {},
     "output_type": "execute_result"
    }
   ],
   "source": []
  },
  {
   "cell_type": "code",
   "execution_count": null,
   "id": "9ea57061",
   "metadata": {},
   "outputs": [],
   "source": []
  }
 ],
 "metadata": {
  "kernelspec": {
   "display_name": "Python 3 (ipykernel)",
   "language": "python",
   "name": "python3"
  },
  "language_info": {
   "codemirror_mode": {
    "name": "ipython",
    "version": 3
   },
   "file_extension": ".py",
   "mimetype": "text/x-python",
   "name": "python",
   "nbconvert_exporter": "python",
   "pygments_lexer": "ipython3",
   "version": "3.9.7"
  }
 },
 "nbformat": 4,
 "nbformat_minor": 5
}
